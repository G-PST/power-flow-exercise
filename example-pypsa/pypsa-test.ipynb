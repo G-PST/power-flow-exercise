{
 "cells": [
  {
   "cell_type": "markdown",
   "id": "32eedba9-4b1c-4513-ba30-e6ddaaa80c7a",
   "metadata": {},
   "source": [
    "# Imports and helper functions"
   ]
  },
  {
   "cell_type": "markdown",
   "id": "e2a8de2d-7d5a-43e9-afb6-21453c44ed93",
   "metadata": {},
   "source": [
    "To import packages and modules to Jupyter notebook, you need to setup a conda environment. Here we call it `gpst`.\n",
    "```\n",
    "conda create --name gpst\n",
    "conda install -c conda-forge pypsa pandapower jupyterlab\n",
    "pip install yaml vresutils==0.3.1\n",
    "```\n",
    "Upgrade to pandapower to develop branch\n",
    "```\n",
    "pip install git+git://github.com/e2nIEE/pandapower@develop\n",
    "```\n",
    "To  add the kernel for the jupyter notebook\n",
    "```\n",
    "pip install ipykernel\n",
    "ipython kernel install --user --name=gpst\n",
    "```\n",
    "\n",
    "Open the jupyter lab notebook by typing `jupyter lab` in the terminal.\n"
   ]
  },
  {
   "cell_type": "code",
   "execution_count": null,
   "id": "ac81a17e-c315-43c3-9b69-89ce32856370",
   "metadata": {},
   "outputs": [],
   "source": [
    "%load_ext autoreload\n",
    "%autoreload 2"
   ]
  },
  {
   "cell_type": "code",
   "execution_count": null,
   "id": "858d6c24-8cde-40e6-bbee-7604defef6ad",
   "metadata": {},
   "outputs": [],
   "source": [
    "import os\n",
    "import timeit\n",
    "import pandas as pd\n",
    "\n",
    "import numpy as np\n",
    "import pandapower as pp\n",
    "import pandapower.converter\n",
    "        \n",
    "import logging\n",
    "\n",
    "logger = logging.getLogger(__name__)\n",
    "\n",
    "from helpers import _sets_path_to_root\n",
    "#from helpers import compare_to_matpower\n",
    "#from helpers import make_name_to_index\n",
    "from helpers import pypsa_validation\n",
    "from helpers import add_nice_carrier_names\n",
    "from helpers import load_costs\n",
    "from helpers import load_rts_grid\n",
    "from helpers import convert_to_pypsa\n",
    "\n",
    "# Show all pandas columns in jupyter\n",
    "pd.set_option(\"display.max_columns\", None)\n",
    "pd.set_option(\"display.max_rows\", None)"
   ]
  },
  {
   "cell_type": "code",
   "execution_count": null,
   "id": "3e0ea5d5-993c-4f36-b988-42b795ce7a76",
   "metadata": {},
   "outputs": [],
   "source": [
    "# Optional. Take local PyPSA-Dev installation to make adjustments\n",
    "print(os.getcwd())\n",
    "pypsa_path = os.getcwd()+\"/example-pypsa/PyPSA\"  # require to have `PyPSA` cloned in ~/power-flow-exercise/example_pypsa/<PyPSA>`\n",
    "print(pypsa_path)\n",
    "import sys\n",
    "sys.path.insert(0, f\"{pypsa_path}\")"
   ]
  },
  {
   "cell_type": "code",
   "execution_count": null,
   "id": "0c6eb26f-cb09-4ce6-a9e1-9109712eb37e",
   "metadata": {},
   "outputs": [],
   "source": [
    "import pypsa"
   ]
  },
  {
   "cell_type": "markdown",
   "id": "336e4950-50c5-46e3-8886-8475841f377b",
   "metadata": {},
   "source": [
    "# Pandapower import of Matpower"
   ]
  },
  {
   "cell_type": "code",
   "execution_count": null,
   "id": "d5616a29",
   "metadata": {},
   "outputs": [],
   "source": [
    "_sets_path_to_root(\"power-flow-exercise\")\n",
    "net=load_rts_grid()\n",
    "# and covert to pypsa\n",
    "network=convert_to_pypsa(net)\n",
    "n = network"
   ]
  },
  {
   "cell_type": "markdown",
   "id": "2cf7984f",
   "metadata": {},
   "source": [
    "### prepare pandapower network for pypsa"
   ]
  },
  {
   "cell_type": "code",
   "execution_count": null,
   "id": "fe09f911",
   "metadata": {},
   "outputs": [],
   "source": [
    "net.gen.loc[:, \"fuel\"] = net.gen[\"fuel\"].replace({\n",
    "        \"Oil\": \"oil\",\n",
    "        \"Coal\": \"coal\",\n",
    "        \"Nuclear\": \"nuclear\",\n",
    "        \"Hydro\": \"hydro\",\n",
    "    })\n",
    "    \n",
    "ccgt_condition = (net.gen[\"fuel\"]==\"NG\") & (net.gen[\"type\"]==\"CC\")\n",
    "ocgt_condition = (net.gen[\"fuel\"]==\"NG\") & (net.gen[\"type\"]==\"CT\")\n",
    "sync_condition = (net.gen[\"fuel\"]==\"Sync_Cond\")  \n",
    "net.gen.loc[ccgt_condition, \"fuel\"] = net.gen.loc[ccgt_condition, \"fuel\"].replace({\"NG\": \"CCGT\",})\n",
    "net.gen.loc[ocgt_condition, \"fuel\"] = net.gen.loc[ocgt_condition, \"fuel\"].replace({\"NG\": \"OCGT\",})\n",
    "net.gen = net.gen.drop(net.gen[sync_condition].index)  # remove sync_cond"
   ]
  },
  {
   "cell_type": "code",
   "execution_count": null,
   "id": "a94cfca5",
   "metadata": {},
   "outputs": [],
   "source": [
    "net.sgen.loc[:, \"fuel\"] = net.sgen[\"fuel\"].replace({\n",
    "        \"Oil\": \"oil\",\n",
    "        \"Coal\": \"coal\",\n",
    "        \"Nuclear\": \"nuclear\",\n",
    "        \"Hydro\": \"hydro\",\n",
    "        \"Solar\": \"solar\",\n",
    "        \"Wind\": \"onwind\",\n",
    "    })\n",
    "\n",
    "ccgt_condition = (net.sgen[\"fuel\"]==\"NG\") & (net.sgen[\"type\"]==\"CC\")\n",
    "ocgt_condition = (net.sgen[\"fuel\"]==\"NG\") & (net.sgen[\"type\"]==\"CT\")\n",
    "storage_condition = (net.sgen[\"fuel\"]==\"Storage\")  \n",
    "\n",
    "net.sgen.loc[ccgt_condition, \"fuel\"] = net.sgen.loc[ccgt_condition, \"fuel\"].replace({\"NG\": \"CCGT\",})\n",
    "net.sgen.loc[ocgt_condition, \"fuel\"] = net.sgen.loc[ocgt_condition, \"fuel\"].replace({\"NG\": \"OCGT\",})\n",
    "net.sgen = net.sgen.drop(net.sgen[storage_condition].index)  # remove storage"
   ]
  },
  {
   "cell_type": "markdown",
   "id": "d1ebaac1",
   "metadata": {},
   "source": [
    "# Scenarios"
   ]
  },
  {
   "cell_type": "code",
   "execution_count": null,
   "id": "7101f48d",
   "metadata": {},
   "outputs": [],
   "source": [
    "d = {\n",
    "    \"scenario\": [\n",
    "    \"RTS_GMLC_base\", # no expansion, opf\n",
    "    \"RTS_GMLC_base+line_expansion\",  # line expansion and opf\n",
    "    \"RTS_GMLS_base+gen_expansion\",  # generation expansion, gen constraints, and opf only\n",
    "    \"RTS_GMLS_base+gen_and_line_expansion\",  # generation expansion, gen constraints, and opf only\n",
    "    \"RTS_GMLS_1p5xload+0emission+gen_and_line_expansion\",  # generation expansion, gen constraints, and opf only\n",
    "    ],\n",
    "    \"co2_budget\": [np.inf, np.inf, np.inf, np.inf, 0],  # sets the total CO2 budget tCO2/kWh in the energy system, i.e. np.inf = unlimited, 0 = net-zero\n",
    "    \"gen_expansion\": [False, False, True, True, True],\n",
    "    \"line_expansion\": [False, True, False, True, True],\n",
    "    \"load_scale\": [1, 1, 1, 1, 1.5],  # multiplies load by factor 1.5 = 150%\n",
    "    \"nodal_constraint\": [False, False, False, False, True],  # nodal constraint. At least x% of the demand must be locally supplied\n",
    "    \"total_transmission_limit\": [False, False, False, False, False]\n",
    "    # \"res_scale\": [100, 100, 100, 100, 100],  # multiplies the installable amount by a factor\n",
    "    # \"expansion_per_line\": [np.inf, np.inf, np.inf, np.inf, np.inf],       \n",
    "}\n",
    "\n",
    "scenarios = pd.DataFrame(data=d)\n",
    "\n",
    "\n",
    "# for i in scenarios.index:\n",
    "#     scenario = scenarios.loc[i, \"scenario\"]\n",
    "#     co2_budget = scenarios.loc[i, \"co2_budget\"]\n",
    "#     gen_expansion = scenarios.loc[i, \"gen_expansion\"]\n",
    "#     line_expansion = scenarios.loc[i, \"line_expansion\"]\n",
    "#     load_scale = scenarios.loc[i, \"load_scale\"]\n",
    "#     nodal_constraint = scenarios.loc[i, \"nodal_constraint\"]\n",
    "#     total_transmission_limit = scenarios.loc[i, \"total_transmission_limit\"]\n",
    "\n",
    "i = 1\n",
    "scenario = scenarios.loc[i, \"scenario\"]\n",
    "co2_budget = scenarios.loc[i, \"co2_budget\"]\n",
    "gen_expansion = scenarios.loc[i, \"gen_expansion\"]\n",
    "line_expansion = scenarios.loc[i, \"line_expansion\"]\n",
    "load_scale = scenarios.loc[i, \"load_scale\"]\n",
    "nodal_constraint = scenarios.loc[i, \"nodal_constraint\"]\n",
    "total_transmission_limit = scenarios.loc[i, \"total_transmission_limit\"]"
   ]
  },
  {
   "cell_type": "code",
   "execution_count": null,
   "id": "1e5b084c",
   "metadata": {},
   "outputs": [],
   "source": [
    "n_1_constraint = 0.7  # p_pu_max... max. 70% of line available for use\n",
    "expansion_limit_per_line = np.inf # i.e. 0.25 will lead limit the expansion per line by 25%, np.inf\n",
    "ll_type = \"c\"  # only relevant total_transmission_limit = true, optimization either for total c = cost or v = volume\n",
    "factor = \"opt\"  # only relevant total_transmission_limit = true, opt = as much expansion, alternatives \"1.5\" = 150% total expansion limit\n",
    "Nyears = \"1\"\n",
    "o = \"EQ0.3\"  #  only active if nodal_constraint = True, EQ0.3 == 30% of demand needs to be supplied locally at node\n",
    "res_scale = 100\n",
    "load_shedding = False\n",
    "hydro_expansion = False\n",
    "nuclear_expansion = False"
   ]
  },
  {
   "cell_type": "markdown",
   "id": "0bff745a",
   "metadata": {},
   "source": [
    "## Update pypsa network"
   ]
  },
  {
   "cell_type": "markdown",
   "id": "d827dafe",
   "metadata": {},
   "source": [
    "Load costs and data modification "
   ]
  },
  {
   "cell_type": "code",
   "execution_count": null,
   "id": "538b4b24",
   "metadata": {},
   "outputs": [],
   "source": [
    "costs = load_costs(Nyears=1., tech_costs=None, config=None, elec_config=None)"
   ]
  },
  {
   "cell_type": "markdown",
   "id": "4428d3ed",
   "metadata": {},
   "source": [
    "Add carrier and static data"
   ]
  },
  {
   "cell_type": "code",
   "execution_count": null,
   "id": "80b3aa7a",
   "metadata": {},
   "outputs": [],
   "source": [
    "carriers = [\"oil\", \"coal\", \"OCGT\", \"CCGT\", \"nuclear\", \"hydro\", \"solar-rooftop\", \"solar-utility\", \"onwind\", \"hydrogen\"]\n",
    "n.madd(\"Carrier\", carriers)\n",
    "add_nice_carrier_names(n)  # updates n.carriers"
   ]
  },
  {
   "cell_type": "code",
   "execution_count": null,
   "id": "e624a40e",
   "metadata": {},
   "outputs": [],
   "source": [
    "# add co2 emissions per carrier and custom carrier\n",
    "n.carriers.loc[:,\"co2_emissions\"] = list(n.carriers[\"co2_emissions\"].reset_index()[\"Carrier\"].map(costs.co2_emissions))\n",
    "n.carriers.loc[n.carriers.index==\"hydrogen\",\"color\"] = \"#89CFF0\"\n",
    "n.carriers.loc[n.carriers.index==\"hydrogen\",\"co2_emissions\"] = 0.0\n",
    "n.carriers.loc[n.carriers.index==\"hydrogen\",\"nice_name\"] = \"Fuel Cell\""
   ]
  },
  {
   "cell_type": "code",
   "execution_count": null,
   "id": "05d8d2af",
   "metadata": {},
   "outputs": [],
   "source": [
    "n.carriers[\"co2_emissions\"]"
   ]
  },
  {
   "cell_type": "code",
   "execution_count": null,
   "id": "db5a12cc",
   "metadata": {},
   "outputs": [],
   "source": [
    "# update carriers according to pandapower\n",
    "n.generators.loc[:, \"carrier\"].update(net.gen.set_index(\"name\")[\"fuel\"]) \n",
    "n.generators.loc[:, \"carrier\"].update(net.sgen.set_index(\"name\")[\"fuel\"])"
   ]
  },
  {
   "cell_type": "code",
   "execution_count": null,
   "id": "c9686195",
   "metadata": {},
   "outputs": [],
   "source": [
    "# add solar carrier\n",
    "n.generators.loc[n.generators.index.str.contains('RTPV')==True, \"carrier\"] = \"solar-rooftop\"\n",
    "n.generators.loc[n.generators.index.str.contains('_PV')==True, \"carrier\"] = \"solar-utility\""
   ]
  },
  {
   "cell_type": "code",
   "execution_count": null,
   "id": "41f57fb5",
   "metadata": {},
   "outputs": [],
   "source": [
    "# Drop empty or not used carrier\n",
    "empty_carrier_condition = (n.generators.carrier.isin(carriers)==False)\n",
    "n.generators = n.generators.drop(n.generators[empty_carrier_condition].index)"
   ]
  },
  {
   "cell_type": "code",
   "execution_count": null,
   "id": "c206d855",
   "metadata": {},
   "outputs": [],
   "source": [
    "# Update line voltage according to bus\n",
    "n.lines[\"v_nom\"] = 1\n",
    "n.lines[\"v_nom\"] = n.lines[\"bus0\"].map(n.buses.v_nom)"
   ]
  },
  {
   "cell_type": "markdown",
   "id": "a00d957c",
   "metadata": {},
   "source": [
    "Add timeseries from RTS-GMLC"
   ]
  },
  {
   "cell_type": "code",
   "execution_count": null,
   "id": "ddda4f3a",
   "metadata": {},
   "outputs": [],
   "source": [
    "load_path = os.path.join(os.getcwd(), \"example-pypsa/timeseries_files/Load/bus_load.csv\") \n",
    "utpv_path = os.path.join(os.getcwd(), \"example-pypsa/timeseries_files/PV/DAY_AHEAD_pv.csv\")\n",
    "rtpv_path = os.path.join(os.getcwd(), \"example-pypsa/timeseries_files/RTPV/DAY_AHEAD_rtpv.csv\")\n",
    "wind_path = os.path.join(os.getcwd(), \"example-pypsa/timeseries_files/Wind/DAY_AHEAD_wind.csv\")\n",
    "hydro_path = os.path.join(os.getcwd(), \"example-pypsa/timeseries_files/Hydro/DAY_AHEAD_hydro.csv\")"
   ]
  },
  {
   "cell_type": "code",
   "execution_count": null,
   "id": "4267a454",
   "metadata": {},
   "outputs": [],
   "source": [
    "utpv_series = pd.read_csv(utpv_path)\n",
    "utpv_series.rename(columns={\"Period\": \"Hour\"}, errors=\"raise\",inplace=True)\n",
    "utpv_series.index = pd.to_datetime(utpv_series[['Year', 'Month', 'Day','Hour']])\n",
    "utpv_series = utpv_series.drop(columns=['Year', 'Month', 'Day','Hour'])\n",
    "utpv_series_pu = utpv_series/utpv_series.max()\n",
    "utpv_series_max_potential = utpv_series.max() * res_scale"
   ]
  },
  {
   "cell_type": "code",
   "execution_count": null,
   "id": "ccc8cb0d",
   "metadata": {},
   "outputs": [],
   "source": [
    "rtpv_series = pd.read_csv(rtpv_path)\n",
    "rtpv_series.rename(columns={\"Period\": \"Hour\"}, errors=\"raise\",inplace=True)\n",
    "rtpv_series.index = pd.to_datetime(rtpv_series[['Year', 'Month', 'Day','Hour']])\n",
    "rtpv_series = rtpv_series.drop(columns=['Year', 'Month', 'Day','Hour'])\n",
    "rtpv_series_pu = rtpv_series/rtpv_series.max()\n",
    "rtpv_series_max_potential = rtpv_series.max() * res_scale"
   ]
  },
  {
   "cell_type": "code",
   "execution_count": null,
   "id": "45d9c3a6",
   "metadata": {},
   "outputs": [],
   "source": [
    "wind_series = pd.read_csv(wind_path)\n",
    "wind_series.rename(columns={\"Period\": \"Hour\"}, errors=\"raise\",inplace=True)\n",
    "wind_series.index = pd.to_datetime(wind_series[['Year', 'Month', 'Day','Hour']])\n",
    "wind_series = wind_series.drop(columns=['Year', 'Month', 'Day','Hour'])\n",
    "wind_series_pu = wind_series/wind_series.max()\n",
    "wind_series_max_potential = wind_series.max() * res_scale"
   ]
  },
  {
   "cell_type": "code",
   "execution_count": null,
   "id": "71a68c6d",
   "metadata": {},
   "outputs": [],
   "source": [
    "hydro_series = pd.read_csv(hydro_path)\n",
    "hydro_series.rename(columns={\"Period\": \"Hour\"}, errors=\"raise\",inplace=True)\n",
    "hydro_series.index = pd.to_datetime(hydro_series[['Year', 'Month', 'Day','Hour']])\n",
    "hydro_series = hydro_series.drop(columns=['Year', 'Month', 'Day','Hour'])\n",
    "hydro_series_pu = hydro_series/hydro_series.max()\n",
    "hydro_series_max_potential = hydro_series.max() * res_scale"
   ]
  },
  {
   "cell_type": "code",
   "execution_count": null,
   "id": "da67543e",
   "metadata": {},
   "outputs": [],
   "source": [
    "load_series = pd.read_csv(load_path)\n",
    "load_series[\"DateTime\"] = pd.to_datetime(load_series[\"DateTime\"])\n",
    "load_series.set_index(\"DateTime\", inplace=True)\n",
    "load_series = load_series * load_scale\n",
    "load_series.columns = [element.upper() for element in load_series.columns] "
   ]
  },
  {
   "cell_type": "code",
   "execution_count": null,
   "id": "b9414374",
   "metadata": {},
   "outputs": [],
   "source": [
    "snapshots = hydro_series_pu.index\n",
    "n.set_snapshots(snapshots)\n",
    "\n",
    "n.madd(\"Generator\",\n",
    "    utpv_series_pu.columns,\n",
    "    bus=utpv_series_pu.columns,\n",
    "    p_nom_extendable=True,\n",
    "    p_max_pu=utpv_series_pu,\n",
    "    p_nom_max=utpv_series_max_potential)\n",
    "\n",
    "n.madd(\"Generator\",\n",
    "    rtpv_series_pu.columns,\n",
    "    bus=rtpv_series_pu.columns,\n",
    "    p_nom_extendable=True,\n",
    "    p_max_pu=rtpv_series_pu,\n",
    "    p_nom_max=rtpv_series_max_potential)\n",
    "\n",
    "n.madd(\"Generator\",\n",
    "    wind_series_pu.columns,\n",
    "    bus=wind_series_pu.columns,\n",
    "    p_nom_extendable=True,\n",
    "    p_max_pu=wind_series_pu,\n",
    "    p_nom_max=wind_series_max_potential)\n",
    "\n",
    "n.madd(\"Generator\",\n",
    "    hydro_series_pu.columns,\n",
    "    bus=hydro_series_pu.columns,\n",
    "    p_nom_extendable=False,\n",
    "    p_max_pu=hydro_series_pu,\n",
    "    p_nom_max=hydro_series_max_potential)\n",
    "\n",
    "n.madd(\"Generator\",\n",
    "    n.buses.index,\n",
    "    suffix=\" Fuel Cell\",\n",
    "    carrier=\"hydrogen\",\n",
    "    bus=n.buses.index,\n",
    "    capital_cost=200000,\n",
    "    marginal_cost=130,\n",
    "    lifetime=25,\n",
    "    efficiency=0.4,\n",
    "    p_nom_extendable=True,)\n",
    "\n",
    "n.mremove(\"Load\", n.loads.index)\n",
    "n.madd(\"Load\",\n",
    "    load_series.columns,\n",
    "    bus=load_series.columns,\n",
    "    p_set=load_series)\n",
    "\n",
    "# load shedding\n",
    "if load_shedding:\n",
    "    n.add(\"Carrier\", \"load\")\n",
    "    buses_i = n.buses.query(\"carrier == 'AC'\").index\n",
    "    n.madd(\"Generator\", buses_i, \" load\",\n",
    "            bus=buses_i,\n",
    "            carrier='load',\n",
    "            sign=1, # Adjust sign to measure p and p_nom in kW instead of MW\n",
    "            # intersect between macroeconomic and surveybased\n",
    "            # willingness to pay\n",
    "            # http://journal.frontiersin.org/article/10.3389/fenrg.2015.00055/full\n",
    "            p_nom=1e4 # kW\n",
    "            )\n",
    "    n.generators.loc[n.generators.carrier == \"load\", \"marginal_cost\"] = 1e6 # = 10000ct/kWh, could not be set with n.madd\n"
   ]
  },
  {
   "cell_type": "markdown",
   "id": "e9eceb41",
   "metadata": {},
   "source": [
    "# Planning exercise"
   ]
  },
  {
   "cell_type": "markdown",
   "id": "4567c99d",
   "metadata": {},
   "source": [
    "### Preparation"
   ]
  },
  {
   "cell_type": "markdown",
   "id": "83a676a1",
   "metadata": {},
   "source": [
    "Update the network dataframe with corresponding costs and technical data"
   ]
  },
  {
   "cell_type": "code",
   "execution_count": null,
   "id": "98ca043f",
   "metadata": {},
   "outputs": [],
   "source": [
    "# partly hacky update since n.madd did not update the imported pandapower network components\n",
    "\n",
    "n.generators.loc[:,\"capital_cost\"] = n.generators[\"carrier\"].map(costs.capital_cost)\n",
    "n.generators.loc[:,\"marginal_cost\"] = n.generators[\"carrier\"].map(costs.marginal_cost)\n",
    "n.generators.loc[:,\"lifetime\"] = n.generators[\"carrier\"].map(costs.lifetime)\n",
    "n.generators.loc[:,\"efficiency\"] = n.generators[\"carrier\"].map(costs.efficiency)\n",
    "n.generators.loc[:, \"p_nom\"] = n.generators.loc[:, \"p_set\"]\n",
    "n.generators.loc[:, \"p_set\"] = 0.0\n",
    "n.generators.loc[n.generators.carrier==\"solar-utility\", \"p_nom_max\"] = utpv_series_max_potential\n",
    "n.generators.loc[n.generators.carrier==\"solar-rooftop\", \"p_nom_max\"] = rtpv_series_max_potential\n",
    "n.generators.loc[n.generators.carrier==\"hydro\", \"p_nom_max\"] = hydro_series_max_potential\n",
    "n.generators.loc[n.generators.carrier==\"onwind\", \"p_nom_max\"] = wind_series_max_potential\n",
    "\n",
    "n.generators.loc[n.generators.carrier==\"hydrogen\", \"capital_cost\"] = 100000\n",
    "n.generators.loc[n.generators.carrier==\"hydrogen\", \"marginal_cost\"] = 1000\n",
    "n.generators.loc[n.generators.carrier==\"hydrogen\", \"lifetime\"] = 25\n",
    "n.generators.loc[n.generators.carrier==\"hydrogen\", \"efficiency\"] = 0.4\n",
    "\n",
    "n.lines.loc[:,\"lifetime\"] = costs.at['HVAC overhead', 'lifetime']\n",
    "n.lines.loc[n.lines.v_nom <= 138, \"length\"] = n.lines.loc[n.lines.v_nom <= 138, \"r\"] / n.line_types.loc[\"305-AL1/39-ST1A 110.0\"].r_per_length\n",
    "n.lines.loc[n.lines.v_nom > 138, \"length\"] = n.lines.loc[n.lines.v_nom > 138, \"r\"] / n.line_types.loc[\"Al/St 240/40 2-bundle 220.0\"].r_per_length\n",
    "n.lines.loc[:,\"capital_cost\"] = (n.lines[\"length\"] * n.lines[\"terrain_factor\"] * costs.at[\"HVAC overhead\", \"capital_cost\"])\n",
    "\n",
    "# hard fix\n",
    "n.lines.loc[\"line_104\", \"r\"] = 1.\n",
    "n.lines.loc[\"line_104\", \"b\"] = 0.000147"
   ]
  },
  {
   "cell_type": "code",
   "execution_count": null,
   "id": "27a76995",
   "metadata": {},
   "outputs": [],
   "source": [
    "# Variables included in the capacity expansion\n",
    "# partly hacky update since n.madd did not update the imported pandapower network components\n",
    "n.lines.loc[:,\"s_nom_extendable\"] = line_expansion\n",
    "n.transformers.loc[:,\"s_nom_extendable\"] = True\n",
    "n.generators.loc[:,\"p_nom_extendable\"] = gen_expansion\n",
    "n.generators.loc[n.generators.carrier == \"hydro\",\"p_nom_extendable\"] = hydro_expansion\n",
    "n.generators.loc[n.generators.carrier == \"nuclear\",\"p_nom_extendable\"] = nuclear_expansion\n"
   ]
  },
  {
   "cell_type": "markdown",
   "id": "cdcdfbc4",
   "metadata": {},
   "source": [
    "### Constraints"
   ]
  },
  {
   "cell_type": "code",
   "execution_count": null,
   "id": "c793ddf1",
   "metadata": {},
   "outputs": [],
   "source": [
    "from pypsa.linopf import (get_var, define_constraints, linexpr, join_exprs,\n",
    "                          network_lopf, ilopf)\n",
    "import yaml"
   ]
  },
  {
   "cell_type": "code",
   "execution_count": null,
   "id": "125ca0f4",
   "metadata": {},
   "outputs": [],
   "source": [
    "### Loads raw config.yaml\n",
    "path = os.getcwd()+\"/example-pypsa/config.yaml\"\n",
    "with open(path, \"r\") as stream:\n",
    "    try:\n",
    "        config = yaml.safe_load(stream)\n",
    "    except yaml.YAMLError as exc:\n",
    "        print(exc)\n",
    "config = config"
   ]
  },
  {
   "cell_type": "code",
   "execution_count": null,
   "id": "5316c547",
   "metadata": {},
   "outputs": [],
   "source": [
    "def add_co2limit(n, co2limit, Nyears=1.):\n",
    "\n",
    "    n.add(\"GlobalConstraint\", \"CO2Limit\",\n",
    "          carrier_attribute=\"co2_emissions\", sense=\"<=\",\n",
    "          constant=co2limit * Nyears)\n",
    "\n",
    "def set_line_s_max_pu(n, s_max_pu = 0.7):\n",
    "    n.lines['s_max_pu'] = s_max_pu\n",
    "    logger.info(f\"N-1 security margin of lines set to {s_max_pu}\")\n",
    "\n",
    "def set_transmission_limit(n, ll_type, factor, costs, Nyears=1):\n",
    "\n",
    "    _lines_s_nom = (np.sqrt(3) * n.lines.type.map(n.line_types.i_nom) *\n",
    "                   n.lines.num_parallel *  n.lines.bus0.map(n.buses.v_nom))\n",
    "    lines_s_nom = n.lines.s_nom.where(n.lines.type == '', _lines_s_nom)\n",
    "\n",
    "    col = 'capital_cost' if ll_type == 'c' else 'length'\n",
    "    ref = (lines_s_nom @ n.lines[col])\n",
    "\n",
    "    if factor == 'opt' or float(factor) > 1.0:\n",
    "        n.lines['s_nom_min'] = lines_s_nom\n",
    "        n.lines['s_nom_extendable'] = True\n",
    "\n",
    "    if factor != 'opt':\n",
    "        con_type = 'expansion_cost' if ll_type == 'c' else 'volume_expansion'\n",
    "        rhs = float(factor) * ref\n",
    "        n.add('GlobalConstraint', f'l{ll_type}_limit',\n",
    "              type=f'transmission_{con_type}_limit',\n",
    "              sense='<=', constant=rhs, carrier_attribute='AC, DC')\n",
    "\n",
    "\n",
    "\n",
    "add_co2limit(n, co2_budget)\n",
    "set_line_s_max_pu(n, n_1_constraint)\n",
    "n.lines[\"s_nom_max\"] = n.lines[\"s_nom\"] * expansion_limit_per_line  # per line expansion limit\n",
    "\n",
    "if total_transmission_limit:\n",
    "    set_transmission_limit(n, ll_type, factor, costs, Nyears)"
   ]
  },
  {
   "cell_type": "code",
   "execution_count": null,
   "id": "c468c951",
   "metadata": {},
   "outputs": [],
   "source": [
    "import re\n",
    "\n",
    "\n",
    "def add_EQ_constraints(n, o, scaling=1e-1):\n",
    "    float_regex = \"[0-9]*\\.?[0-9]+\"\n",
    "    level = float(re.findall(float_regex, o)[0])\n",
    "    ggrouper = n.generators.bus\n",
    "    lgrouper = n.loads.bus\n",
    "    load = n.snapshot_weightings.generators @ \\\n",
    "           n.loads_t.p_set.groupby(lgrouper, axis=1).sum()\n",
    "    lhs_gen = linexpr((n.snapshot_weightings.generators * scaling,\n",
    "                       get_var(n, \"Generator\", \"p\").T)\n",
    "              ).T.groupby(ggrouper, axis=1).apply(join_exprs)\n",
    "    lhs_gen = lhs_gen[lhs_gen.index.isin(n.loads.bus)]\n",
    "    lhs = lhs_gen\n",
    "    rhs = scaling * ( level * load)\n",
    "    rhs = rhs[rhs.index.isin(lhs.index)]\n",
    "    define_constraints(n, lhs, \">=\", rhs, \"equity\", \"min\")\n",
    "\n",
    "def extra_functionality(n, snapshots):\n",
    "    if nodal_constraint:\n",
    "        add_EQ_constraints(n, o)"
   ]
  },
  {
   "cell_type": "markdown",
   "id": "5c57561f",
   "metadata": {},
   "source": [
    "# Solve network"
   ]
  },
  {
   "cell_type": "code",
   "execution_count": null,
   "id": "862a57c7",
   "metadata": {},
   "outputs": [],
   "source": [
    "def solve_network(n, config, opts='', **kwargs):\n",
    "    solver_options = config['solving']['solver'].copy()\n",
    "    solver_name = solver_options.pop('name')\n",
    "    cf_solving = config['solving']['options']\n",
    "    track_iterations = cf_solving.get('track_iterations', False)\n",
    "    min_iterations = cf_solving.get('min_iterations', 4)\n",
    "    max_iterations = cf_solving.get('max_iterations', 6)\n",
    "\n",
    "    # add to network for extra_functionality\n",
    "    n.config = config\n",
    "    n.opts = opts\n",
    "\n",
    "    if cf_solving.get('skip_iterations', False):\n",
    "        network_lopf(n, solver_name=solver_name, solver_options=solver_options,\n",
    "                     extra_functionality=extra_functionality, **kwargs)\n",
    "    else:\n",
    "        ilopf(n, solver_name=solver_name, solver_options=solver_options,\n",
    "              track_iterations=track_iterations,\n",
    "              min_iterations=min_iterations,\n",
    "              max_iterations=max_iterations,\n",
    "              extra_functionality=extra_functionality, **kwargs)\n",
    "    return n\n"
   ]
  },
  {
   "cell_type": "code",
   "execution_count": null,
   "id": "8ccf5e10",
   "metadata": {},
   "outputs": [],
   "source": [
    "from pathlib import Path\n",
    "\n",
    "tmpdir = config['solving'].get('tmpdir')\n",
    "if tmpdir is not None:\n",
    "        Path(tmpdir).mkdir(parents=True, exist_ok=True)\n",
    "\n",
    "#%debug\n",
    "n = solve_network(n, config=config, solver_dir=tmpdir,)"
   ]
  },
  {
   "cell_type": "markdown",
   "id": "14024674-efb4-4ff2-8bf5-584b57fa420c",
   "metadata": {},
   "source": [
    "# Inspect PyPSA network before solving"
   ]
  },
  {
   "cell_type": "code",
   "execution_count": null,
   "id": "03722d0a",
   "metadata": {},
   "outputs": [],
   "source": [
    "###map.py von Fabian\n",
    "\"\"\"\n",
    "Network expansion plotting functions.\n",
    "\"\"\"\n",
    "\n",
    "__author__ = \"Fabian Neumann (KIT)\"\n",
    "__copyright__ = \"Copyright 2019-2020 Fabian Neumann (KIT), GNU GPL 3\"\n",
    "\n",
    "import pandas as pd\n",
    "import numpy as np\n",
    "\n",
    "import cartopy.crs as ccrs\n",
    "import matplotlib.pyplot as plt\n",
    "\n",
    "from matplotlib.patches import Circle, Ellipse\n",
    "from matplotlib.legend_handler import HandlerPatch\n",
    "\n",
    "\n",
    "\n",
    "\n",
    "def make_handler_map_to_scale_circles_as_in(ax, dont_resize_actively=False):\n",
    "    fig = ax.get_figure()\n",
    "\n",
    "    def axes2pt():\n",
    "        return np.diff(ax.transData.transform([(0, 0), (1, 1)]), axis=0)[0] * (\n",
    "            300.0 / fig.dpi\n",
    "        )\n",
    "\n",
    "    ellipses = []\n",
    "    if not dont_resize_actively:\n",
    "\n",
    "        def update_width_height(event):\n",
    "            dist = axes2pt()\n",
    "            for e, radius in ellipses:\n",
    "                e.width, e.height = 2.0 * radius * dist\n",
    "\n",
    "        fig.canvas.mpl_connect(\"resize_event\", update_width_height)\n",
    "        ax.callbacks.connect(\"xlim_changed\", update_width_height)\n",
    "        ax.callbacks.connect(\"ylim_changed\", update_width_height)\n",
    "\n",
    "    def legend_circle_handler(\n",
    "        legend, orig_handle, xdescent, ydescent, width, height, fontsize\n",
    "    ):\n",
    "        w, h = 2.0 * orig_handle.get_radius() * axes2pt()\n",
    "        e = Ellipse(\n",
    "            xy=(0.5 * width - 0.5 * xdescent, 0.5 * height - 0.5 * ydescent),\n",
    "            width=w,\n",
    "            height=w,\n",
    "        )\n",
    "        ellipses.append((e, orig_handle.get_radius()))\n",
    "        return e\n",
    "\n",
    "    return {Circle: HandlerPatch(patch_func=legend_circle_handler)}\n",
    "\n",
    "\n",
    "def make_legend_circles_for(sizes, scale=1.0, **kw):\n",
    "    return [Circle((0, 0), radius=(s / scale) ** 0.5, **kw) for s in sizes]\n",
    "\n",
    "\n",
    "def add_legend(ax, bus_factor, branch_factor):\n",
    "\n",
    "    handles = []\n",
    "    labels = []\n",
    "    for s in (0.1, 0.5, 1):\n",
    "        handles.append(\n",
    "            plt.Line2D([0], [0], color=\"rosybrown\", linewidth=s * 1e3 / branch_factor)\n",
    "        )\n",
    "        labels.append(f\"{s} GW\")\n",
    "    l1 = ax.legend(\n",
    "        handles,\n",
    "        labels,\n",
    "        loc=\"upper left\",\n",
    "        bbox_to_anchor=(0, 0),\n",
    "        frameon=False,\n",
    "        labelspacing=0.8,\n",
    "        handletextpad=1.5,\n",
    "        title=\"HVAC Line Capacity\",\n",
    "    )\n",
    "    ax.add_artist(l1)\n",
    "\n",
    "    handles = []\n",
    "    labels = []\n",
    "    for s in (2, 5, 10):\n",
    "        handles.append(\n",
    "            plt.Line2D(\n",
    "                [0], [0], color=\"darkseagreen\", linewidth=s * 1 / branch_factor\n",
    "            )\n",
    "        )\n",
    "        labels.append(f\"{s} GW\")\n",
    "\n",
    "\n",
    "    handles = []\n",
    "    labels = []\n",
    "    if \"Load\" in n.carriers.index:\n",
    "        n.carriers = n.carriers.drop(\"Load\")\n",
    "    for name, carrier in n.carriers.iterrows():\n",
    "        handles.append(\n",
    "            plt.Line2D(\n",
    "                [0], [0], color=carrier.color, marker=\"o\", markersize=8, linewidth=0\n",
    "            )\n",
    "        )\n",
    "        labels.append(carrier.nice_name)\n",
    "    l3 = ax.legend(\n",
    "        handles,\n",
    "        labels,\n",
    "        loc=\"upper center\",\n",
    "        bbox_to_anchor=(0.58, -0.0),  # bbox_to_anchor=(0.72, -0.05),\n",
    "        handletextpad=0.0,\n",
    "        columnspacing=0.5,\n",
    "        ncol=2,\n",
    "        title=\"Technology\",\n",
    "        frameon=False,\n",
    "    )\n",
    "    ax.add_artist(l3)\n",
    "\n",
    "    circles = [1, 0.5, 0.1]\n",
    "    handles = make_legend_circles_for(circles, scale=bus_factor, facecolor=\"lightgray\")\n",
    "    labels = [f\"{int(s/0.1)} MW\" for s in circles]\n",
    "    l4 = ax.legend(\n",
    "        handles,\n",
    "        labels,\n",
    "        loc=\"upper left\",\n",
    "        bbox_to_anchor=(0.82, 0.0),\n",
    "        frameon=False,\n",
    "        labelspacing=1.5,\n",
    "        title=\"Generation\",\n",
    "        handler_map=make_handler_map_to_scale_circles_as_in(ax, True),\n",
    "    )\n",
    "    ax.add_artist(l4)\n",
    "\n",
    "\n",
    "def plot_network(n, fn=None):\n",
    "\n",
    "    bus_factor = 2e5\n",
    "    branch_factor = 1e2\n",
    "\n",
    "    fields = [\"bus\", \"carrier\", \"p_nom_opt\"]\n",
    "    pie_components = pd.concat(\n",
    "        [\n",
    "            n.generators.loc[n.generators.carrier != \"load\", fields],\n",
    "            n.storage_units[fields],\n",
    "        ]\n",
    "    )\n",
    "    bus_sizes = pie_components.groupby([\"bus\", \"carrier\"]).p_nom_opt.sum() / bus_factor\n",
    "\n",
    "    def clip(df, thres=0.0):\n",
    "        return df.where(df > thres, other=0.0)\n",
    "\n",
    "    line_widths = clip(n.lines.s_nom) / branch_factor\n",
    "    link_widths = clip(n.links.p_nom) / branch_factor\n",
    "    line_widths_opt = clip(n.lines.s_nom_opt) / branch_factor\n",
    "\n",
    "    fig, ax = plt.subplots(\n",
    "        figsize=(11, 11), subplot_kw={\"projection\": ccrs.PlateCarree()}\n",
    "    )\n",
    "\n",
    "    n.plot(\n",
    "        ax=ax,\n",
    "        bus_sizes=bus_sizes,\n",
    "        color_geomap=None,\n",
    "        bus_alpha=0.7,\n",
    "        line_widths=line_widths_opt,\n",
    "        line_colors=\"#dddddd\",\n",
    "    )\n",
    "\n",
    "    n.plot(\n",
    "        ax=ax,\n",
    "        geomap=False,\n",
    "        bus_sizes=0,\n",
    "        line_widths=line_widths,\n",
    "        link_widths=link_widths,\n",
    "        color_geomap=None,\n",
    "    )\n",
    "\n",
    "    add_legend(ax, bus_factor, branch_factor)\n",
    "\n",
    "    if fn is not None:\n",
    "        plt.savefig(fn, bbox_inches=\"tight\")\n",
    "        \n",
    "        \n",
    "plot_network(n, fn=os.path.join(os.getcwd(), f\"optimized_network_{scenario}\"))"
   ]
  },
  {
   "cell_type": "code",
   "execution_count": null,
   "id": "f301ef38",
   "metadata": {},
   "outputs": [],
   "source": [
    "###map.py von Fabian\n",
    "\"\"\"\n",
    "Network expansion plotting functions.\n",
    "\"\"\"\n",
    "\n",
    "__author__ = \"Fabian Neumann (KIT)\"\n",
    "__copyright__ = \"Copyright 2019-2020 Fabian Neumann (KIT), GNU GPL 3\"\n",
    "\n",
    "import pandas as pd\n",
    "import numpy as np\n",
    "\n",
    "import cartopy.crs as ccrs\n",
    "import matplotlib.pyplot as plt\n",
    "\n",
    "from matplotlib.patches import Circle, Ellipse\n",
    "from matplotlib.legend_handler import HandlerPatch\n",
    "\n",
    "\n",
    "\n",
    "\n",
    "def make_handler_map_to_scale_circles_as_in(ax, dont_resize_actively=False):\n",
    "    fig = ax.get_figure()\n",
    "\n",
    "    def axes2pt():\n",
    "        return np.diff(ax.transData.transform([(0, 0), (1, 1)]), axis=0)[0] * (\n",
    "            300.0 / fig.dpi\n",
    "        )\n",
    "\n",
    "    ellipses = []\n",
    "    if not dont_resize_actively:\n",
    "\n",
    "        def update_width_height(event):\n",
    "            dist = axes2pt()\n",
    "            for e, radius in ellipses:\n",
    "                e.width, e.height = 2.0 * radius * dist\n",
    "\n",
    "        fig.canvas.mpl_connect(\"resize_event\", update_width_height)\n",
    "        ax.callbacks.connect(\"xlim_changed\", update_width_height)\n",
    "        ax.callbacks.connect(\"ylim_changed\", update_width_height)\n",
    "\n",
    "    def legend_circle_handler(\n",
    "        legend, orig_handle, xdescent, ydescent, width, height, fontsize\n",
    "    ):\n",
    "        w, h = 2.0 * orig_handle.get_radius() * axes2pt()\n",
    "        e = Ellipse(\n",
    "            xy=(0.5 * width - 0.5 * xdescent, 0.5 * height - 0.5 * ydescent),\n",
    "            width=w,\n",
    "            height=w,\n",
    "        )\n",
    "        ellipses.append((e, orig_handle.get_radius()))\n",
    "        return e\n",
    "\n",
    "    return {Circle: HandlerPatch(patch_func=legend_circle_handler)}\n",
    "\n",
    "\n",
    "def make_legend_circles_for(sizes, scale=1.0, **kw):\n",
    "    return [Circle((0, 0), radius=(s / scale) ** 0.5, **kw) for s in sizes]\n",
    "\n",
    "\n",
    "def add_legend(ax, bus_factor, branch_factor):\n",
    "\n",
    "    handles = []\n",
    "    labels = []\n",
    "    for s in (0.1, 0.5, 1):\n",
    "        handles.append(\n",
    "            plt.Line2D([0], [0], color=\"rosybrown\", linewidth=s * 1e3 / branch_factor)\n",
    "        )\n",
    "        labels.append(f\"{s} GW\")\n",
    "    l1 = ax.legend(\n",
    "        handles,\n",
    "        labels,\n",
    "        loc=\"upper left\",\n",
    "        bbox_to_anchor=(0, 0),\n",
    "        frameon=False,\n",
    "        labelspacing=0.8,\n",
    "        handletextpad=1.5,\n",
    "        title=\"HVAC Line Capacity\",\n",
    "    )\n",
    "    ax.add_artist(l1)\n",
    "\n",
    "    handles = []\n",
    "    labels = []\n",
    "    for s in (2, 5, 10):\n",
    "        handles.append(\n",
    "            plt.Line2D(\n",
    "                [0], [0], color=\"darkseagreen\", linewidth=s * 1 / branch_factor\n",
    "            )\n",
    "        )\n",
    "        labels.append(f\"{s} GW\")\n",
    "\n",
    "\n",
    "    handles = []\n",
    "    labels = []\n",
    "    if \"Load\" in n.carriers.index:\n",
    "        n.carriers = n.carriers.drop(\"Load\")\n",
    "    for name, carrier in n.carriers.iterrows():\n",
    "        handles.append(\n",
    "            plt.Line2D(\n",
    "                [0], [0], color=carrier.color, marker=\"o\", markersize=8, linewidth=0\n",
    "            )\n",
    "        )\n",
    "        labels.append(carrier.nice_name)\n",
    "    l3 = ax.legend(\n",
    "        handles,\n",
    "        labels,\n",
    "        loc=\"upper center\",\n",
    "        bbox_to_anchor=(0.58, -0.0),  # bbox_to_anchor=(0.72, -0.05),\n",
    "        handletextpad=0.0,\n",
    "        columnspacing=0.5,\n",
    "        ncol=2,\n",
    "        title=\"Technology\",\n",
    "        frameon=False,\n",
    "    )\n",
    "    ax.add_artist(l3)\n",
    "\n",
    "    circles = [1, 0.5, 0.1]\n",
    "    handles = make_legend_circles_for(circles, scale=bus_factor, facecolor=\"lightgray\")\n",
    "    labels = [f\"{int(s/0.1)} MW\" for s in circles]\n",
    "    l4 = ax.legend(\n",
    "        handles,\n",
    "        labels,\n",
    "        loc=\"upper left\",\n",
    "        bbox_to_anchor=(0.82, 0.0),\n",
    "        frameon=False,\n",
    "        labelspacing=1.5,\n",
    "        title=\"Generation\",\n",
    "        handler_map=make_handler_map_to_scale_circles_as_in(ax, True),\n",
    "    )\n",
    "    ax.add_artist(l4)\n",
    "\n",
    "\n",
    "def plot_network(n, fn=None):\n",
    "\n",
    "    bus_factor = 1e5\n",
    "    branch_factor = 1e2\n",
    "\n",
    "    fields = [\"bus\", \"carrier\", \"p_nom\"]\n",
    "    pie_components = pd.concat(\n",
    "        [\n",
    "            n.generators.loc[n.generators.carrier != \"load\", fields],\n",
    "            n.storage_units[fields],\n",
    "        ]\n",
    "    )\n",
    "    bus_sizes = pie_components.groupby([\"bus\", \"carrier\"]).p_nom.sum() / bus_factor\n",
    "\n",
    "    def clip(df, thres=0.0):\n",
    "        return df.where(df > thres, other=0.0)\n",
    "\n",
    "    line_widths = clip(n.lines.s_nom) / branch_factor\n",
    "    link_widths = clip(n.links.p_nom) / branch_factor\n",
    "    #line_widths_opt = clip(n.lines.s_nom_opt) / branch_factor\n",
    "\n",
    "    fig, ax = plt.subplots(\n",
    "        figsize=(11, 11), subplot_kw={\"projection\": ccrs.PlateCarree()}\n",
    "    )\n",
    "\n",
    "    n.plot(\n",
    "        ax=ax,\n",
    "        bus_sizes=bus_sizes,\n",
    "        color_geomap=None,\n",
    "        bus_alpha=0.7,\n",
    "        line_colors=\"#dddddd\",\n",
    "    )\n",
    "\n",
    "    n.plot(\n",
    "        ax=ax,\n",
    "        geomap=False,\n",
    "        bus_sizes=0,\n",
    "        line_widths=line_widths,\n",
    "        link_widths=link_widths,\n",
    "        color_geomap=None,\n",
    "    )\n",
    "\n",
    "    add_legend(ax, bus_factor, branch_factor)\n",
    "\n",
    "    if fn is not None:\n",
    "        plt.savefig(fn, bbox_inches=\"tight\")\n",
    "        \n",
    "        \n",
    "plot_network(n, fn=os.path.join(os.getcwd(), f\"original_network_{scenario}\"))"
   ]
  },
  {
   "cell_type": "code",
   "execution_count": null,
   "id": "3ad25920-26c8-47c3-be9d-01b71c88819c",
   "metadata": {},
   "outputs": [],
   "source": [
    "n.snapshots"
   ]
  },
  {
   "cell_type": "code",
   "execution_count": null,
   "id": "eb7fc2e8-1008-4b39-8be6-6a6d5254700f",
   "metadata": {},
   "outputs": [],
   "source": [
    "n.global_constraints"
   ]
  },
  {
   "cell_type": "code",
   "execution_count": null,
   "id": "4d360fe6",
   "metadata": {},
   "outputs": [],
   "source": [
    "total_costs = n.objective + n.objective_constant\n",
    "print(round(total_costs/1e9, 2), \"Billion€/year\")"
   ]
  },
  {
   "cell_type": "code",
   "execution_count": null,
   "id": "a0d3c60f-f340-493e-aa09-0df77c81fb22",
   "metadata": {},
   "outputs": [],
   "source": [
    "n.buses"
   ]
  },
  {
   "cell_type": "code",
   "execution_count": null,
   "id": "756e5e5a-3580-48d9-aacb-13cf288fa798",
   "metadata": {},
   "outputs": [],
   "source": [
    "n.generators"
   ]
  },
  {
   "cell_type": "code",
   "execution_count": null,
   "id": "307de419-2008-4bd7-9326-4146b63190dd",
   "metadata": {},
   "outputs": [],
   "source": [
    "n.loads_t"
   ]
  },
  {
   "cell_type": "code",
   "execution_count": null,
   "id": "ee9c3cd4-adb0-451e-9597-23cb4e84ad1f",
   "metadata": {},
   "outputs": [],
   "source": [
    "n.lines"
   ]
  },
  {
   "cell_type": "code",
   "execution_count": null,
   "id": "335d9ee9-d384-4c6e-8bd2-78b34f4b70ed",
   "metadata": {},
   "outputs": [],
   "source": [
    "n.transformers"
   ]
  },
  {
   "cell_type": "code",
   "execution_count": null,
   "id": "d1d89b18-2bf6-4477-bb39-dcf8a4cca7ef",
   "metadata": {},
   "outputs": [],
   "source": [
    "n.links"
   ]
  },
  {
   "cell_type": "code",
   "execution_count": null,
   "id": "68e39326-b1da-47ca-84b4-a6974734e334",
   "metadata": {},
   "outputs": [],
   "source": [
    "n.stores"
   ]
  },
  {
   "cell_type": "code",
   "execution_count": null,
   "id": "da7c3e56-c9b4-45f1-8407-f28234beb0a3",
   "metadata": {},
   "outputs": [],
   "source": [
    "n.storage_units"
   ]
  },
  {
   "cell_type": "code",
   "execution_count": null,
   "id": "dd322e13-4a6a-4d21-93e0-909f8172d7f9",
   "metadata": {},
   "outputs": [],
   "source": [
    "n.shunt_impedances"
   ]
  },
  {
   "cell_type": "code",
   "execution_count": null,
   "id": "4e1fb5f5-4979-4808-931a-be7ec8869fae",
   "metadata": {},
   "outputs": [],
   "source": [
    "n.carriers"
   ]
  },
  {
   "cell_type": "markdown",
   "id": "443bb893",
   "metadata": {},
   "source": [
    "# Save\n"
   ]
  },
  {
   "cell_type": "code",
   "execution_count": null,
   "id": "b0cdb62e",
   "metadata": {},
   "outputs": [],
   "source": [
    "# EXPORT AS CSV and netcdf\n",
    "path = os.path.join(os.getcwd(), \"example-pypsa\", f\"solved_network_{scenario}\")\n",
    "n.export_to_csv_folder(path)\n",
    "path_nc = os.path.join(os.getcwd(), \"example-pypsa\", f\"solved_network_{scenario}.nc\")\n",
    "n.export_to_netcdf(path_nc)"
   ]
  },
  {
   "cell_type": "code",
   "execution_count": null,
   "id": "24711a53",
   "metadata": {},
   "outputs": [],
   "source": []
  }
 ],
 "metadata": {
  "interpreter": {
   "hash": "87a4a8180df0bdbc0f54f506183c750714b192458af4e65da2f1fb2502628bca"
  },
  "kernelspec": {
   "display_name": "Python 3 (ipykernel)",
   "language": "python",
   "name": "python3"
  },
  "language_info": {
   "codemirror_mode": {
    "name": "ipython",
    "version": 3
   },
   "file_extension": ".py",
   "mimetype": "text/x-python",
   "name": "python",
   "nbconvert_exporter": "python",
   "pygments_lexer": "ipython3",
   "version": "3.9.9"
  }
 },
 "nbformat": 4,
 "nbformat_minor": 5
}
