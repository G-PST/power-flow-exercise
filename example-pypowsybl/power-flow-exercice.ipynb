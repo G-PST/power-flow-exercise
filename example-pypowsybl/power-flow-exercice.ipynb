{
 "cells": [
  {
   "cell_type": "markdown",
   "metadata": {},
   "source": [
    "# Powerflow exercice\n",
    "## imports, utils"
   ]
  },
  {
   "cell_type": "code",
   "execution_count": 1,
   "metadata": {},
   "outputs": [],
   "source": [
    "import pypowsybl as pp\n",
    "import script.pypowsyblexample as ppe\n",
    "from IPython.display import display\n",
    "\n",
    "def runTest(path, file_name, lf_paramters = None):\n",
    "    network = pp.network.load(path + file_name + '.mat')\n",
    "    result = pp.loadflow.run_ac(network, lf_paramters)\n",
    "    ppe.write_output(network, 'results/' + file_name + '_')\n",
    "    return network, result\n",
    "\n",
    "def run_and_compare(path, file_name, title, lf_parameters=None):\n",
    "    network, result = runTest(path, file_name, lf_parameters)\n",
    "    display(title, result, ppe.compare(path, network).describe())\n",
    "    \n",
    "ULTRABASIC_LF_PARAM = pp.loadflow.Parameters(distributed_slack = False, no_generator_reactive_limits = True, transformer_voltage_control_on = False, voltage_init_mode = pp.loadflow.VoltageInitMode.PREVIOUS_VALUES)\n",
    "BASIC_LF_PARAM = pp.loadflow.Parameters(distributed_slack = False, no_generator_reactive_limits = True, transformer_voltage_control_on = False)\n",
    "STANDARD_LF_PARAM = pp.loadflow.Parameters(distributed_slack = True, no_generator_reactive_limits = False, transformer_voltage_control_on = False)\n",
    "\n",
    "path_RTS = '../reference-matpower/RTS_GMLC/'\n",
    "file_name_RTS = 'RTS_GMLC'\n",
    "\n",
    "pegase_path = '../reference-matpower/case9241pegase/'\n",
    "pegase_file_name = 'case9241pegase'\n"
   ]
  },
  {
   "cell_type": "markdown",
   "metadata": {},
   "source": [
    "## Results benchmark: test with RTS_GMLC"
   ]
  },
  {
   "cell_type": "code",
   "execution_count": 2,
   "metadata": {},
   "outputs": [
    {
     "data": {
      "text/plain": [
       "'ULTRABASIC'"
      ]
     },
     "metadata": {},
     "output_type": "display_data"
    },
    {
     "data": {
      "text/plain": [
       "[ComponentResult(connected_component_num=0, synchronous_component_num=0, status=CONVERGED, iteration_count=1, slack_bus_id='VL-113_0', slack_bus_active_power_mismatch=3.7798608687467095e-08)]"
      ]
     },
     "metadata": {},
     "output_type": "display_data"
    },
    {
     "data": {
      "text/html": [
       "<div>\n",
       "<style scoped>\n",
       "    .dataframe tbody tr th:only-of-type {\n",
       "        vertical-align: middle;\n",
       "    }\n",
       "\n",
       "    .dataframe tbody tr th {\n",
       "        vertical-align: top;\n",
       "    }\n",
       "\n",
       "    .dataframe thead th {\n",
       "        text-align: right;\n",
       "    }\n",
       "</style>\n",
       "<table border=\"1\" class=\"dataframe\">\n",
       "  <thead>\n",
       "    <tr style=\"text-align: right;\">\n",
       "      <th></th>\n",
       "      <th>v_mag</th>\n",
       "      <th>angle</th>\n",
       "    </tr>\n",
       "  </thead>\n",
       "  <tbody>\n",
       "    <tr>\n",
       "      <th>count</th>\n",
       "      <td>7.300000e+01</td>\n",
       "      <td>7.300000e+01</td>\n",
       "    </tr>\n",
       "    <tr>\n",
       "      <th>mean</th>\n",
       "      <td>1.155849e-16</td>\n",
       "      <td>4.479218e-14</td>\n",
       "    </tr>\n",
       "    <tr>\n",
       "      <th>std</th>\n",
       "      <td>1.769388e-16</td>\n",
       "      <td>2.196777e-14</td>\n",
       "    </tr>\n",
       "    <tr>\n",
       "      <th>min</th>\n",
       "      <td>0.000000e+00</td>\n",
       "      <td>0.000000e+00</td>\n",
       "    </tr>\n",
       "    <tr>\n",
       "      <th>25%</th>\n",
       "      <td>0.000000e+00</td>\n",
       "      <td>2.153833e-14</td>\n",
       "    </tr>\n",
       "    <tr>\n",
       "      <th>50%</th>\n",
       "      <td>0.000000e+00</td>\n",
       "      <td>4.973799e-14</td>\n",
       "    </tr>\n",
       "    <tr>\n",
       "      <th>75%</th>\n",
       "      <td>2.220446e-16</td>\n",
       "      <td>6.306067e-14</td>\n",
       "    </tr>\n",
       "    <tr>\n",
       "      <th>max</th>\n",
       "      <td>8.881784e-16</td>\n",
       "      <td>8.171241e-14</td>\n",
       "    </tr>\n",
       "  </tbody>\n",
       "</table>\n",
       "</div>"
      ],
      "text/plain": [
       "              v_mag         angle\n",
       "count  7.300000e+01  7.300000e+01\n",
       "mean   1.155849e-16  4.479218e-14\n",
       "std    1.769388e-16  2.196777e-14\n",
       "min    0.000000e+00  0.000000e+00\n",
       "25%    0.000000e+00  2.153833e-14\n",
       "50%    0.000000e+00  4.973799e-14\n",
       "75%    2.220446e-16  6.306067e-14\n",
       "max    8.881784e-16  8.171241e-14"
      ]
     },
     "metadata": {},
     "output_type": "display_data"
    },
    {
     "data": {
      "text/plain": [
       "'BASIC'"
      ]
     },
     "metadata": {},
     "output_type": "display_data"
    },
    {
     "data": {
      "text/plain": [
       "[ComponentResult(connected_component_num=0, synchronous_component_num=0, status=CONVERGED, iteration_count=3, slack_bus_id='VL-113_0', slack_bus_active_power_mismatch=-0.004786884939012026)]"
      ]
     },
     "metadata": {},
     "output_type": "display_data"
    },
    {
     "data": {
      "text/html": [
       "<div>\n",
       "<style scoped>\n",
       "    .dataframe tbody tr th:only-of-type {\n",
       "        vertical-align: middle;\n",
       "    }\n",
       "\n",
       "    .dataframe tbody tr th {\n",
       "        vertical-align: top;\n",
       "    }\n",
       "\n",
       "    .dataframe thead th {\n",
       "        text-align: right;\n",
       "    }\n",
       "</style>\n",
       "<table border=\"1\" class=\"dataframe\">\n",
       "  <thead>\n",
       "    <tr style=\"text-align: right;\">\n",
       "      <th></th>\n",
       "      <th>v_mag</th>\n",
       "      <th>angle</th>\n",
       "    </tr>\n",
       "  </thead>\n",
       "  <tbody>\n",
       "    <tr>\n",
       "      <th>count</th>\n",
       "      <td>7.300000e+01</td>\n",
       "      <td>73.000000</td>\n",
       "    </tr>\n",
       "    <tr>\n",
       "      <th>mean</th>\n",
       "      <td>2.507553e-07</td>\n",
       "      <td>0.000139</td>\n",
       "    </tr>\n",
       "    <tr>\n",
       "      <th>std</th>\n",
       "      <td>4.322189e-07</td>\n",
       "      <td>0.000102</td>\n",
       "    </tr>\n",
       "    <tr>\n",
       "      <th>min</th>\n",
       "      <td>0.000000e+00</td>\n",
       "      <td>0.000000</td>\n",
       "    </tr>\n",
       "    <tr>\n",
       "      <th>25%</th>\n",
       "      <td>0.000000e+00</td>\n",
       "      <td>0.000065</td>\n",
       "    </tr>\n",
       "    <tr>\n",
       "      <th>50%</th>\n",
       "      <td>6.951664e-09</td>\n",
       "      <td>0.000105</td>\n",
       "    </tr>\n",
       "    <tr>\n",
       "      <th>75%</th>\n",
       "      <td>2.696023e-07</td>\n",
       "      <td>0.000182</td>\n",
       "    </tr>\n",
       "    <tr>\n",
       "      <th>max</th>\n",
       "      <td>1.822788e-06</td>\n",
       "      <td>0.000476</td>\n",
       "    </tr>\n",
       "  </tbody>\n",
       "</table>\n",
       "</div>"
      ],
      "text/plain": [
       "              v_mag      angle\n",
       "count  7.300000e+01  73.000000\n",
       "mean   2.507553e-07   0.000139\n",
       "std    4.322189e-07   0.000102\n",
       "min    0.000000e+00   0.000000\n",
       "25%    0.000000e+00   0.000065\n",
       "50%    6.951664e-09   0.000105\n",
       "75%    2.696023e-07   0.000182\n",
       "max    1.822788e-06   0.000476"
      ]
     },
     "metadata": {},
     "output_type": "display_data"
    },
    {
     "data": {
      "text/plain": [
       "'STANDARD'"
      ]
     },
     "metadata": {},
     "output_type": "display_data"
    },
    {
     "data": {
      "text/plain": [
       "[ComponentResult(connected_component_num=0, synchronous_component_num=0, status=CONVERGED, iteration_count=5, slack_bus_id='VL-113_0', slack_bus_active_power_mismatch=0.0028836138507459808)]"
      ]
     },
     "metadata": {},
     "output_type": "display_data"
    },
    {
     "data": {
      "text/html": [
       "<div>\n",
       "<style scoped>\n",
       "    .dataframe tbody tr th:only-of-type {\n",
       "        vertical-align: middle;\n",
       "    }\n",
       "\n",
       "    .dataframe tbody tr th {\n",
       "        vertical-align: top;\n",
       "    }\n",
       "\n",
       "    .dataframe thead th {\n",
       "        text-align: right;\n",
       "    }\n",
       "</style>\n",
       "<table border=\"1\" class=\"dataframe\">\n",
       "  <thead>\n",
       "    <tr style=\"text-align: right;\">\n",
       "      <th></th>\n",
       "      <th>v_mag</th>\n",
       "      <th>angle</th>\n",
       "    </tr>\n",
       "  </thead>\n",
       "  <tbody>\n",
       "    <tr>\n",
       "      <th>count</th>\n",
       "      <td>7.300000e+01</td>\n",
       "      <td>73.000000</td>\n",
       "    </tr>\n",
       "    <tr>\n",
       "      <th>mean</th>\n",
       "      <td>5.250719e-06</td>\n",
       "      <td>0.000286</td>\n",
       "    </tr>\n",
       "    <tr>\n",
       "      <th>std</th>\n",
       "      <td>1.217706e-05</td>\n",
       "      <td>0.000267</td>\n",
       "    </tr>\n",
       "    <tr>\n",
       "      <th>min</th>\n",
       "      <td>0.000000e+00</td>\n",
       "      <td>0.000000</td>\n",
       "    </tr>\n",
       "    <tr>\n",
       "      <th>25%</th>\n",
       "      <td>0.000000e+00</td>\n",
       "      <td>0.000086</td>\n",
       "    </tr>\n",
       "    <tr>\n",
       "      <th>50%</th>\n",
       "      <td>5.544613e-08</td>\n",
       "      <td>0.000192</td>\n",
       "    </tr>\n",
       "    <tr>\n",
       "      <th>75%</th>\n",
       "      <td>4.037615e-06</td>\n",
       "      <td>0.000373</td>\n",
       "    </tr>\n",
       "    <tr>\n",
       "      <th>max</th>\n",
       "      <td>7.176813e-05</td>\n",
       "      <td>0.000994</td>\n",
       "    </tr>\n",
       "  </tbody>\n",
       "</table>\n",
       "</div>"
      ],
      "text/plain": [
       "              v_mag      angle\n",
       "count  7.300000e+01  73.000000\n",
       "mean   5.250719e-06   0.000286\n",
       "std    1.217706e-05   0.000267\n",
       "min    0.000000e+00   0.000000\n",
       "25%    0.000000e+00   0.000086\n",
       "50%    5.544613e-08   0.000192\n",
       "75%    4.037615e-06   0.000373\n",
       "max    7.176813e-05   0.000994"
      ]
     },
     "metadata": {},
     "output_type": "display_data"
    },
    {
     "data": {
      "text/plain": [
       "'None'"
      ]
     },
     "metadata": {},
     "output_type": "display_data"
    },
    {
     "data": {
      "text/plain": [
       "[ComponentResult(connected_component_num=0, synchronous_component_num=0, status=CONVERGED, iteration_count=5, slack_bus_id='VL-113_0', slack_bus_active_power_mismatch=0.0028836138507459808)]"
      ]
     },
     "metadata": {},
     "output_type": "display_data"
    },
    {
     "data": {
      "text/html": [
       "<div>\n",
       "<style scoped>\n",
       "    .dataframe tbody tr th:only-of-type {\n",
       "        vertical-align: middle;\n",
       "    }\n",
       "\n",
       "    .dataframe tbody tr th {\n",
       "        vertical-align: top;\n",
       "    }\n",
       "\n",
       "    .dataframe thead th {\n",
       "        text-align: right;\n",
       "    }\n",
       "</style>\n",
       "<table border=\"1\" class=\"dataframe\">\n",
       "  <thead>\n",
       "    <tr style=\"text-align: right;\">\n",
       "      <th></th>\n",
       "      <th>v_mag</th>\n",
       "      <th>angle</th>\n",
       "    </tr>\n",
       "  </thead>\n",
       "  <tbody>\n",
       "    <tr>\n",
       "      <th>count</th>\n",
       "      <td>7.300000e+01</td>\n",
       "      <td>73.000000</td>\n",
       "    </tr>\n",
       "    <tr>\n",
       "      <th>mean</th>\n",
       "      <td>5.250719e-06</td>\n",
       "      <td>0.000286</td>\n",
       "    </tr>\n",
       "    <tr>\n",
       "      <th>std</th>\n",
       "      <td>1.217706e-05</td>\n",
       "      <td>0.000267</td>\n",
       "    </tr>\n",
       "    <tr>\n",
       "      <th>min</th>\n",
       "      <td>0.000000e+00</td>\n",
       "      <td>0.000000</td>\n",
       "    </tr>\n",
       "    <tr>\n",
       "      <th>25%</th>\n",
       "      <td>0.000000e+00</td>\n",
       "      <td>0.000086</td>\n",
       "    </tr>\n",
       "    <tr>\n",
       "      <th>50%</th>\n",
       "      <td>5.544613e-08</td>\n",
       "      <td>0.000192</td>\n",
       "    </tr>\n",
       "    <tr>\n",
       "      <th>75%</th>\n",
       "      <td>4.037615e-06</td>\n",
       "      <td>0.000373</td>\n",
       "    </tr>\n",
       "    <tr>\n",
       "      <th>max</th>\n",
       "      <td>7.176813e-05</td>\n",
       "      <td>0.000994</td>\n",
       "    </tr>\n",
       "  </tbody>\n",
       "</table>\n",
       "</div>"
      ],
      "text/plain": [
       "              v_mag      angle\n",
       "count  7.300000e+01  73.000000\n",
       "mean   5.250719e-06   0.000286\n",
       "std    1.217706e-05   0.000267\n",
       "min    0.000000e+00   0.000000\n",
       "25%    0.000000e+00   0.000086\n",
       "50%    5.544613e-08   0.000192\n",
       "75%    4.037615e-06   0.000373\n",
       "max    7.176813e-05   0.000994"
      ]
     },
     "metadata": {},
     "output_type": "display_data"
    }
   ],
   "source": [
    "run_and_compare(path_RTS, file_name_RTS, \"ULTRABASIC\", ULTRABASIC_LF_PARAM)\n",
    "run_and_compare(path_RTS, file_name_RTS, \"BASIC\", BASIC_LF_PARAM)\n",
    "run_and_compare(path_RTS, file_name_RTS, \"STANDARD\", STANDARD_LF_PARAM)\n",
    "run_and_compare(path_RTS, file_name_RTS, \"None\")\n"
   ]
  },
  {
   "cell_type": "markdown",
   "metadata": {},
   "source": [
    "## performances:  case9241pegase"
   ]
  },
  {
   "cell_type": "code",
   "execution_count": 3,
   "metadata": {},
   "outputs": [
    {
     "data": {
      "text/plain": [
       "'ULTRABASIC'"
      ]
     },
     "metadata": {},
     "output_type": "display_data"
    },
    {
     "data": {
      "text/plain": [
       "[ComponentResult(connected_component_num=0, synchronous_component_num=0, status=CONVERGED, iteration_count=5, slack_bus_id='VL-4231_0', slack_bus_active_power_mismatch=-203.32663329983518)]"
      ]
     },
     "metadata": {},
     "output_type": "display_data"
    },
    {
     "data": {
      "text/html": [
       "<div>\n",
       "<style scoped>\n",
       "    .dataframe tbody tr th:only-of-type {\n",
       "        vertical-align: middle;\n",
       "    }\n",
       "\n",
       "    .dataframe tbody tr th {\n",
       "        vertical-align: top;\n",
       "    }\n",
       "\n",
       "    .dataframe thead th {\n",
       "        text-align: right;\n",
       "    }\n",
       "</style>\n",
       "<table border=\"1\" class=\"dataframe\">\n",
       "  <thead>\n",
       "    <tr style=\"text-align: right;\">\n",
       "      <th></th>\n",
       "      <th>v_mag</th>\n",
       "      <th>angle</th>\n",
       "    </tr>\n",
       "  </thead>\n",
       "  <tbody>\n",
       "    <tr>\n",
       "      <th>count</th>\n",
       "      <td>9.241000e+03</td>\n",
       "      <td>9241.000000</td>\n",
       "    </tr>\n",
       "    <tr>\n",
       "      <th>mean</th>\n",
       "      <td>7.070466e-06</td>\n",
       "      <td>0.523492</td>\n",
       "    </tr>\n",
       "    <tr>\n",
       "      <th>std</th>\n",
       "      <td>1.545600e-05</td>\n",
       "      <td>0.257883</td>\n",
       "    </tr>\n",
       "    <tr>\n",
       "      <th>min</th>\n",
       "      <td>0.000000e+00</td>\n",
       "      <td>0.000000</td>\n",
       "    </tr>\n",
       "    <tr>\n",
       "      <th>25%</th>\n",
       "      <td>2.165338e-09</td>\n",
       "      <td>0.296771</td>\n",
       "    </tr>\n",
       "    <tr>\n",
       "      <th>50%</th>\n",
       "      <td>9.950584e-07</td>\n",
       "      <td>0.422176</td>\n",
       "    </tr>\n",
       "    <tr>\n",
       "      <th>75%</th>\n",
       "      <td>7.142777e-06</td>\n",
       "      <td>0.811538</td>\n",
       "    </tr>\n",
       "    <tr>\n",
       "      <th>max</th>\n",
       "      <td>3.982032e-04</td>\n",
       "      <td>0.869372</td>\n",
       "    </tr>\n",
       "  </tbody>\n",
       "</table>\n",
       "</div>"
      ],
      "text/plain": [
       "              v_mag        angle\n",
       "count  9.241000e+03  9241.000000\n",
       "mean   7.070466e-06     0.523492\n",
       "std    1.545600e-05     0.257883\n",
       "min    0.000000e+00     0.000000\n",
       "25%    2.165338e-09     0.296771\n",
       "50%    9.950584e-07     0.422176\n",
       "75%    7.142777e-06     0.811538\n",
       "max    3.982032e-04     0.869372"
      ]
     },
     "metadata": {},
     "output_type": "display_data"
    },
    {
     "data": {
      "text/plain": [
       "'BASIC'"
      ]
     },
     "metadata": {},
     "output_type": "display_data"
    },
    {
     "data": {
      "text/plain": [
       "[ComponentResult(connected_component_num=0, synchronous_component_num=0, status=CONVERGED, iteration_count=4, slack_bus_id='VL-4231_0', slack_bus_active_power_mismatch=-203.32758614912478)]"
      ]
     },
     "metadata": {},
     "output_type": "display_data"
    },
    {
     "data": {
      "text/html": [
       "<div>\n",
       "<style scoped>\n",
       "    .dataframe tbody tr th:only-of-type {\n",
       "        vertical-align: middle;\n",
       "    }\n",
       "\n",
       "    .dataframe tbody tr th {\n",
       "        vertical-align: top;\n",
       "    }\n",
       "\n",
       "    .dataframe thead th {\n",
       "        text-align: right;\n",
       "    }\n",
       "</style>\n",
       "<table border=\"1\" class=\"dataframe\">\n",
       "  <thead>\n",
       "    <tr style=\"text-align: right;\">\n",
       "      <th></th>\n",
       "      <th>v_mag</th>\n",
       "      <th>angle</th>\n",
       "    </tr>\n",
       "  </thead>\n",
       "  <tbody>\n",
       "    <tr>\n",
       "      <th>count</th>\n",
       "      <td>9.241000e+03</td>\n",
       "      <td>9241.000000</td>\n",
       "    </tr>\n",
       "    <tr>\n",
       "      <th>mean</th>\n",
       "      <td>7.069333e-06</td>\n",
       "      <td>0.523499</td>\n",
       "    </tr>\n",
       "    <tr>\n",
       "      <th>std</th>\n",
       "      <td>1.545031e-05</td>\n",
       "      <td>0.257888</td>\n",
       "    </tr>\n",
       "    <tr>\n",
       "      <th>min</th>\n",
       "      <td>0.000000e+00</td>\n",
       "      <td>0.000000</td>\n",
       "    </tr>\n",
       "    <tr>\n",
       "      <th>25%</th>\n",
       "      <td>2.165340e-09</td>\n",
       "      <td>0.296778</td>\n",
       "    </tr>\n",
       "    <tr>\n",
       "      <th>50%</th>\n",
       "      <td>9.959588e-07</td>\n",
       "      <td>0.422186</td>\n",
       "    </tr>\n",
       "    <tr>\n",
       "      <th>75%</th>\n",
       "      <td>7.143778e-06</td>\n",
       "      <td>0.811550</td>\n",
       "    </tr>\n",
       "    <tr>\n",
       "      <th>max</th>\n",
       "      <td>3.982031e-04</td>\n",
       "      <td>0.869384</td>\n",
       "    </tr>\n",
       "  </tbody>\n",
       "</table>\n",
       "</div>"
      ],
      "text/plain": [
       "              v_mag        angle\n",
       "count  9.241000e+03  9241.000000\n",
       "mean   7.069333e-06     0.523499\n",
       "std    1.545031e-05     0.257888\n",
       "min    0.000000e+00     0.000000\n",
       "25%    2.165340e-09     0.296778\n",
       "50%    9.959588e-07     0.422186\n",
       "75%    7.143778e-06     0.811550\n",
       "max    3.982031e-04     0.869384"
      ]
     },
     "metadata": {},
     "output_type": "display_data"
    },
    {
     "data": {
      "text/plain": [
       "'STANDARD'"
      ]
     },
     "metadata": {},
     "output_type": "display_data"
    },
    {
     "data": {
      "text/plain": [
       "[ComponentResult(connected_component_num=0, synchronous_component_num=0, status=CONVERGED, iteration_count=12, slack_bus_id='VL-4231_0', slack_bus_active_power_mismatch=-0.22078337720223828)]"
      ]
     },
     "metadata": {},
     "output_type": "display_data"
    },
    {
     "data": {
      "text/html": [
       "<div>\n",
       "<style scoped>\n",
       "    .dataframe tbody tr th:only-of-type {\n",
       "        vertical-align: middle;\n",
       "    }\n",
       "\n",
       "    .dataframe tbody tr th {\n",
       "        vertical-align: top;\n",
       "    }\n",
       "\n",
       "    .dataframe thead th {\n",
       "        text-align: right;\n",
       "    }\n",
       "</style>\n",
       "<table border=\"1\" class=\"dataframe\">\n",
       "  <thead>\n",
       "    <tr style=\"text-align: right;\">\n",
       "      <th></th>\n",
       "      <th>v_mag</th>\n",
       "      <th>angle</th>\n",
       "    </tr>\n",
       "  </thead>\n",
       "  <tbody>\n",
       "    <tr>\n",
       "      <th>count</th>\n",
       "      <td>9241.000000</td>\n",
       "      <td>9241.000000</td>\n",
       "    </tr>\n",
       "    <tr>\n",
       "      <th>mean</th>\n",
       "      <td>0.001181</td>\n",
       "      <td>0.831858</td>\n",
       "    </tr>\n",
       "    <tr>\n",
       "      <th>std</th>\n",
       "      <td>0.003907</td>\n",
       "      <td>0.256726</td>\n",
       "    </tr>\n",
       "    <tr>\n",
       "      <th>min</th>\n",
       "      <td>0.000000</td>\n",
       "      <td>0.000000</td>\n",
       "    </tr>\n",
       "    <tr>\n",
       "      <th>25%</th>\n",
       "      <td>0.000002</td>\n",
       "      <td>0.640492</td>\n",
       "    </tr>\n",
       "    <tr>\n",
       "      <th>50%</th>\n",
       "      <td>0.000055</td>\n",
       "      <td>0.821412</td>\n",
       "    </tr>\n",
       "    <tr>\n",
       "      <th>75%</th>\n",
       "      <td>0.000625</td>\n",
       "      <td>1.015116</td>\n",
       "    </tr>\n",
       "    <tr>\n",
       "      <th>max</th>\n",
       "      <td>0.034661</td>\n",
       "      <td>2.033274</td>\n",
       "    </tr>\n",
       "  </tbody>\n",
       "</table>\n",
       "</div>"
      ],
      "text/plain": [
       "             v_mag        angle\n",
       "count  9241.000000  9241.000000\n",
       "mean      0.001181     0.831858\n",
       "std       0.003907     0.256726\n",
       "min       0.000000     0.000000\n",
       "25%       0.000002     0.640492\n",
       "50%       0.000055     0.821412\n",
       "75%       0.000625     1.015116\n",
       "max       0.034661     2.033274"
      ]
     },
     "metadata": {},
     "output_type": "display_data"
    },
    {
     "data": {
      "text/plain": [
       "'None'"
      ]
     },
     "metadata": {},
     "output_type": "display_data"
    },
    {
     "data": {
      "text/plain": [
       "[ComponentResult(connected_component_num=0, synchronous_component_num=0, status=CONVERGED, iteration_count=12, slack_bus_id='VL-4231_0', slack_bus_active_power_mismatch=-0.22078337720223828)]"
      ]
     },
     "metadata": {},
     "output_type": "display_data"
    },
    {
     "data": {
      "text/html": [
       "<div>\n",
       "<style scoped>\n",
       "    .dataframe tbody tr th:only-of-type {\n",
       "        vertical-align: middle;\n",
       "    }\n",
       "\n",
       "    .dataframe tbody tr th {\n",
       "        vertical-align: top;\n",
       "    }\n",
       "\n",
       "    .dataframe thead th {\n",
       "        text-align: right;\n",
       "    }\n",
       "</style>\n",
       "<table border=\"1\" class=\"dataframe\">\n",
       "  <thead>\n",
       "    <tr style=\"text-align: right;\">\n",
       "      <th></th>\n",
       "      <th>v_mag</th>\n",
       "      <th>angle</th>\n",
       "    </tr>\n",
       "  </thead>\n",
       "  <tbody>\n",
       "    <tr>\n",
       "      <th>count</th>\n",
       "      <td>9241.000000</td>\n",
       "      <td>9241.000000</td>\n",
       "    </tr>\n",
       "    <tr>\n",
       "      <th>mean</th>\n",
       "      <td>0.001181</td>\n",
       "      <td>0.831858</td>\n",
       "    </tr>\n",
       "    <tr>\n",
       "      <th>std</th>\n",
       "      <td>0.003907</td>\n",
       "      <td>0.256726</td>\n",
       "    </tr>\n",
       "    <tr>\n",
       "      <th>min</th>\n",
       "      <td>0.000000</td>\n",
       "      <td>0.000000</td>\n",
       "    </tr>\n",
       "    <tr>\n",
       "      <th>25%</th>\n",
       "      <td>0.000002</td>\n",
       "      <td>0.640492</td>\n",
       "    </tr>\n",
       "    <tr>\n",
       "      <th>50%</th>\n",
       "      <td>0.000055</td>\n",
       "      <td>0.821412</td>\n",
       "    </tr>\n",
       "    <tr>\n",
       "      <th>75%</th>\n",
       "      <td>0.000625</td>\n",
       "      <td>1.015116</td>\n",
       "    </tr>\n",
       "    <tr>\n",
       "      <th>max</th>\n",
       "      <td>0.034661</td>\n",
       "      <td>2.033274</td>\n",
       "    </tr>\n",
       "  </tbody>\n",
       "</table>\n",
       "</div>"
      ],
      "text/plain": [
       "             v_mag        angle\n",
       "count  9241.000000  9241.000000\n",
       "mean      0.001181     0.831858\n",
       "std       0.003907     0.256726\n",
       "min       0.000000     0.000000\n",
       "25%       0.000002     0.640492\n",
       "50%       0.000055     0.821412\n",
       "75%       0.000625     1.015116\n",
       "max       0.034661     2.033274"
      ]
     },
     "metadata": {},
     "output_type": "display_data"
    }
   ],
   "source": [
    "run_and_compare(pegase_path, pegase_file_name, 'ULTRABASIC', ULTRABASIC_LF_PARAM)\n",
    "run_and_compare(pegase_path, pegase_file_name, 'BASIC', BASIC_LF_PARAM)\n",
    "run_and_compare(pegase_path, pegase_file_name, 'STANDARD', STANDARD_LF_PARAM)\n",
    "run_and_compare(pegase_path, pegase_file_name, 'None')\n"
   ]
  },
  {
   "cell_type": "code",
   "execution_count": 4,
   "metadata": {},
   "outputs": [
    {
     "name": "stdout",
     "output_type": "stream",
     "text": [
      "Loading\n",
      "1.32 s ± 317 ms per loop (mean ± std. dev. of 20 runs, 1 loop each)\n",
      "\n",
      "Solving ULTRABASIC parameters ... more or less meaningless!\n",
      "2.26 s ± 337 ms per loop (mean ± std. dev. of 20 runs, 1 loop each)\n",
      "\n",
      "Solving BASIC parameters\n",
      "2.71 s ± 399 ms per loop (mean ± std. dev. of 20 runs, 1 loop each)\n",
      "\n",
      "Solving STANDARD parameters\n",
      "4.05 s ± 760 ms per loop (mean ± std. dev. of 20 runs, 1 loop each)\n",
      "\n",
      "Solving default parameters\n",
      "2.98 s ± 506 ms per loop (mean ± std. dev. of 20 runs, 1 loop each)\n"
     ]
    }
   ],
   "source": [
    "pegase_mat_filename = pegase_path + pegase_file_name + '.mat'\n",
    "pegase_network = pp.network.load(pegase_mat_filename)\n",
    "print('Loading')\n",
    "%timeit -r 20 pp.network.load(pegase_mat_filename)\n",
    "pegase_network = pp.network.load(pegase_mat_filename)\n",
    "print('\\nSolving ULTRABASIC parameters ... more or less meaningless!')\n",
    "%timeit -r 20 pp.loadflow.run_ac(pegase_network, ULTRABASIC_LF_PARAM)\n",
    "print('\\nSolving BASIC parameters')\n",
    "%timeit -r 20 pp.loadflow.run_ac(pegase_network, BASIC_LF_PARAM)\n",
    "print('\\nSolving STANDARD parameters')\n",
    "%timeit -r 20 pp.loadflow.run_ac(pegase_network, STANDARD_LF_PARAM)\n",
    "print('\\nSolving default parameters')\n",
    "%timeit -r 20 pp.loadflow.run_ac(pegase_network)\n"
   ]
  },
  {
   "cell_type": "code",
   "execution_count": 9,
   "metadata": {},
   "outputs": [],
   "source": [
    "pp.set_debug_mode(True)\n",
    "\n",
    "pegase_network = pp.network.load('../reference-matpower/case9241pegase/case9241pegase.mat')\n",
    "\n",
    "security_analysis = pp.security.create_analysis()\n",
    "lines = pegase_network.get_lines().index.tolist()\n",
    "\n",
    "security_analysis.add_single_element_contingencies(lines)\n",
    "\n",
    "s_a_result = security_analysis.run_ac(pegase_network, parameters=ULTRABASIC_LF_PARAM)\n",
    "\n",
    "print(s_a_result.pre_contingency_result)\n",
    "s_a_result.post_contingency_results"
   ]
  },
  {
   "cell_type": "code",
   "execution_count": 2,
   "metadata": {},
   "outputs": [
    {
     "data": {
      "text/plain": [
       "[ComponentResult(connected_component_num=0, synchronous_component_num=0, status=CONVERGED, iteration_count=5, slack_bus_id='VL-113_0', slack_bus_active_power_mismatch=0.0028836138507459808)]"
      ]
     },
     "execution_count": 2,
     "metadata": {},
     "output_type": "execute_result"
    }
   ],
   "source": [
    "import pypowsybl as pp\n",
    "\n",
    "# load the network\n",
    "network = pp.network.load('../reference-matpower/RTS_GMLC/RTS_GMLC.mat')\n",
    "\n",
    "#run the loadFlow with default load flow paramters\n",
    "result = pp.loadflow.run_ac(network)\n",
    "result"
   ]
  },
  {
   "cell_type": "code",
   "execution_count": 4,
   "metadata": {},
   "outputs": [],
   "source": [
    "#different kind of load flow parameters\n",
    "ULTRABASIC_LF_PARAM = pp.loadflow.Parameters(distributed_slack = False,\\\n",
    "        no_generator_reactive_limits = True,\\\n",
    "        transformer_voltage_control_on = False,\\\n",
    "        voltage_init_mode = pp.loadflow.VoltageInitMode.PREVIOUS_VALUES)\n",
    "    \n",
    "BASIC_LF_PARAM = pp.loadflow.Parameters(distributed_slack = False,\\\n",
    "    no_generator_reactive_limits = True,\\\n",
    "    transformer_voltage_control_on = False)\n",
    "\n",
    "STANDARD_LF_PARAM = pp.loadflow.Parameters(distributed_slack = True,\\\n",
    "    no_generator_reactive_limits = False,\\\n",
    "    transformer_voltage_control_on = False)\n",
    "\n",
    "pp.loadflow.run_ac(network, parameters=BASIC_LF_PARAM)"
   ]
  }
 ],
 "metadata": {
  "interpreter": {
   "hash": "0074f9c4d90ae19944f0ef2bd9e2b32bea0824a734f1197906463fbb7c85314f"
  },
  "kernelspec": {
   "display_name": "Python 3.7.2 64-bit",
   "language": "python",
   "name": "python3"
  },
  "language_info": {
   "codemirror_mode": {
    "name": "ipython",
    "version": 3
   },
   "file_extension": ".py",
   "mimetype": "text/x-python",
   "name": "python",
   "nbconvert_exporter": "python",
   "pygments_lexer": "ipython3",
   "version": "3.7.2"
  },
  "orig_nbformat": 4
 },
 "nbformat": 4,
 "nbformat_minor": 2
}
